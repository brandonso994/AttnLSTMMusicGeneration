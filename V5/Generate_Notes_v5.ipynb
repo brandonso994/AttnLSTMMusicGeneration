{
  "nbformat": 4,
  "nbformat_minor": 0,
  "metadata": {
    "colab": {
      "provenance": [],
      "machine_shape": "hm",
      "gpuType": "V100",
      "mount_file_id": "1GI1lj67mUgx88oIxus7GKOSvRsZsOuxk",
      "authorship_tag": "ABX9TyOGyTpsUZF3+3+2+bJA5g8d",
      "include_colab_link": true
    },
    "kernelspec": {
      "name": "python3",
      "display_name": "Python 3"
    },
    "language_info": {
      "name": "python"
    },
    "accelerator": "GPU"
  },
  "cells": [
    {
      "cell_type": "markdown",
      "metadata": {
        "id": "view-in-github",
        "colab_type": "text"
      },
      "source": [
        "<a href=\"https://colab.research.google.com/github/brandonso994/AttnLSTMMusicGeneration/blob/main/V5/Generate_Notes_v5.ipynb\" target=\"_parent\"><img src=\"https://colab.research.google.com/assets/colab-badge.svg\" alt=\"Open In Colab\"/></a>"
      ]
    },
    {
      "cell_type": "code",
      "source": [
        "!pip install keras_self_attention"
      ],
      "metadata": {
        "colab": {
          "base_uri": "https://localhost:8080/"
        },
        "id": "eVt6u2HbVp_A",
        "outputId": "fe8756d6-ebf2-4b47-b6b8-b2bebbb1034e"
      },
      "execution_count": null,
      "outputs": [
        {
          "output_type": "stream",
          "name": "stdout",
          "text": [
            "Collecting keras_self_attention\n",
            "  Downloading keras-self-attention-0.51.0.tar.gz (11 kB)\n",
            "  Preparing metadata (setup.py) ... \u001b[?25l\u001b[?25hdone\n",
            "Requirement already satisfied: numpy in /usr/local/lib/python3.10/dist-packages (from keras_self_attention) (1.22.4)\n",
            "Building wheels for collected packages: keras_self_attention\n",
            "  Building wheel for keras_self_attention (setup.py) ... \u001b[?25l\u001b[?25hdone\n",
            "  Created wheel for keras_self_attention: filename=keras_self_attention-0.51.0-py3-none-any.whl size=18895 sha256=ad380bb2f2fffe95ab7b152d255f6ae252d1dfff08d5c8db7fab4628235fdb4d\n",
            "  Stored in directory: /root/.cache/pip/wheels/b8/f7/24/607b483144fb9c47b4ba2c5fba6b68e54aeee2d5bf6c05302e\n",
            "Successfully built keras_self_attention\n",
            "Installing collected packages: keras_self_attention\n",
            "Successfully installed keras_self_attention-0.51.0\n"
          ]
        }
      ]
    },
    {
      "cell_type": "code",
      "execution_count": null,
      "metadata": {
        "id": "VvYsr319-KMl"
      },
      "outputs": [],
      "source": [
        "from music21 import converter, instrument, note, chord, stream, volume\n",
        "from fractions import Fraction\n",
        "import matplotlib.pyplot as plt\n",
        "import glob\n",
        "import numpy as np\n",
        "import nltk\n",
        "import pandas as pd\n",
        "import pickle\n",
        "from keras.models import Sequential, Model\n",
        "from keras.layers import LSTM, Dropout, Dense, Activation, Bidirectional, BatchNormalization, Input, Embedding, Concatenate\n",
        "from keras.utils import np_utils\n",
        "from keras.callbacks import EarlyStopping, ModelCheckpoint\n",
        "from keras.metrics import CategoricalAccuracy\n",
        "import tensorflow as tf\n",
        "from keras import backend as K\n",
        "from keras_self_attention import SeqSelfAttention"
      ]
    },
    {
      "cell_type": "code",
      "source": [
        "from google.colab import drive\n",
        "drive.mount('/content/drive')"
      ],
      "metadata": {
        "colab": {
          "base_uri": "https://localhost:8080/"
        },
        "id": "ZH8aXFs6ASGY",
        "outputId": "51394a51-596a-4764-a450-1560b9263bbd"
      },
      "execution_count": null,
      "outputs": [
        {
          "output_type": "stream",
          "name": "stdout",
          "text": [
            "Mounted at /content/drive\n"
          ]
        }
      ]
    },
    {
      "cell_type": "code",
      "source": [
        "def flatten(array):\n",
        "  new_array = [item for array in array for item in array]\n",
        "  return new_array\n",
        "\n",
        "# Create Sequence with window length = sequence_length for input into model\n",
        "def sequence(notes ,all_notes, note_set_len, sequence_length, midi_input):\n",
        "\n",
        "  note_values = sorted(set(note for note in all_notes))\n",
        "\n",
        "  note_encode = dict((note, num) for num, note in enumerate(note_values))\n",
        "\n",
        "  network_input_note = []\n",
        "  note_output = []\n",
        "\n",
        "  for i in range (len(notes) - sequence_length):\n",
        "    note_sequence = notes[i:i + sequence_length]\n",
        "    note_input_sequence = [note_encode[note] for note in note_sequence]\n",
        "\n",
        "    network_input_note.append(note_input_sequence)\n",
        "    note_output.append(note_encode[notes[i + sequence_length]])\n",
        "\n",
        "    if midi_input:\n",
        "      break\n",
        "\n",
        "  n_patterns = len(network_input_note)\n",
        "\n",
        "  network_input_note = np.array(network_input_note)\n",
        "  network_input_note = np.reshape(network_input_note, (network_input_note.shape[0], network_input_note.shape[1], 1))\n",
        "\n",
        "  note_output = np.array(note_output)\n",
        "\n",
        "  note_output = np.reshape(note_output, (note_output.shape[0], 1))\n",
        "\n",
        "\n",
        "  return network_input_note\n",
        "\n",
        "def create_model(note_set_len, version_num):\n",
        "\n",
        "    model = Sequential()\n",
        "\n",
        "    # Note input\n",
        "    model.add(Input(shape=(None,)))\n",
        "    model.add(Embedding(note_set_len, 600))\n",
        "    model.add(Bidirectional(LSTM(1024, return_sequences=True)))\n",
        "    model.add(SeqSelfAttention(attention_activation='sigmoid'))\n",
        "    model.add(Dropout(0.3))\n",
        "    model.add(LSTM(1024, return_sequences=True))\n",
        "    model.add(Dropout(0.3))\n",
        "    model.add(LSTM(1024, return_sequences=False))\n",
        "    model.add(Dropout(0.3))\n",
        "\n",
        "    model.add(Dense(note_set_len, activation='softmax', name='note'))\n",
        "\n",
        "    model.load_weights('/content/drive/My Drive/MRP/Model/model_weights_' + version_num + '_checkpoints.h5')\n",
        "\n",
        "    return model\n",
        "\n",
        "# Predicts the next note given the sequence\n",
        "def note_prediction(model, note_input, notes, seq_len, num_notes=500, temp=1, midi_input=False):\n",
        "    note_set_len = len(set(notes))\n",
        "\n",
        "    note_values = sorted(set(note for note in notes))\n",
        "\n",
        "    note_decode = dict((num, note) for num, note in enumerate(note_values))\n",
        "    note_encode = dict((note, num) for num, note in enumerate(note_values))\n",
        "\n",
        "    # Whether input was given, or start randomly from sequence\n",
        "    if midi_input:\n",
        "      start = 0\n",
        "    else:\n",
        "      start = np.random.randint(0, len(note_input) - 1)\n",
        "\n",
        "    generated_notes = []\n",
        "    note_pattern = note_input[start].copy()\n",
        "\n",
        "    #print(note_pattern)\n",
        "\n",
        "    # Loop, predicting each note and appending the prediction to the sequence, removing the oldest note to preserve sequence length\n",
        "    for item in range(num_notes):\n",
        "        note_pattern_reshaped = np.reshape(note_pattern, (1, seq_len, 1))\n",
        "\n",
        "        predictions = model.predict(note_pattern_reshaped, verbose=0)\n",
        "\n",
        "        predicted_note = predictions[0]\n",
        "\n",
        "        # Apply temperature\n",
        "        predicted_note = np.log(predicted_note) / temp\n",
        "\n",
        "        note_probs = np.exp(predicted_note) / np.sum(np.exp(predicted_note))\n",
        "\n",
        "        # Sample the next pitch and duration using the temperature-adjusted probabilities\n",
        "        next_note = np.random.choice(len(note_probs), p=note_probs)\n",
        "\n",
        "        decoded_note = note_decode[next_note]\n",
        "        generated_notes.append(decoded_note)\n",
        "        next_note_encode = note_encode[decoded_note]\n",
        "        note_pattern = np.append(note_pattern[1:], [next_note_encode])\n",
        "\n",
        "    return generated_notes\n",
        "\n",
        "# Generate midi from predicted notes\n",
        "def generate_midi(note_sequence, file_num, version_num):\n",
        "  output_notes = []\n",
        "  offset = 0\n",
        "  isRest = False\n",
        "  for output_note in note_sequence:\n",
        "      output_note = output_note.split()\n",
        "      temp = output_note[0]\n",
        "      duration = float(output_note[1].split(':')[0])\n",
        "      new_offset = float(output_note[1].split(':')[1])\n",
        "      output_pitch = temp\n",
        "      # pattern is a chord\n",
        "      if ('.' in output_pitch) or output_pitch.isdigit():\n",
        "          notes_in_chord = output_pitch.split('.')\n",
        "          notes = []\n",
        "          for current_note in notes_in_chord:\n",
        "              new_note = note.Note(int(current_note))\n",
        "              notes.append(new_note)\n",
        "          new_chord = chord.Chord(notes)\n",
        "          new_chord.duration.quarterLength = float(duration)\n",
        "          new_chord.offset = offset\n",
        "          output_notes.append(new_chord)\n",
        "      else:\n",
        "          new_note = note.Note(output_pitch)\n",
        "          new_note.offset = offset\n",
        "          new_note.duration.quarterLength = float(duration)\n",
        "          output_notes.append(new_note)\n",
        "      offset += new_offset\n",
        "\n",
        "  midi_stream = stream.Stream(output_notes)\n",
        "  piano = instrument.Piano()\n",
        "  midi_stream.insert(0, piano)\n",
        "  midi_stream.write('midi', fp='/content/drive/My Drive/MRP/test_file_' + str(version_num) + '_' + str(file_num) + '.midi')\n",
        "\n",
        "  return\n",
        "\n",
        "def generate(version_num, file_num, midi_input=False, load=False, num_notes=500):\n",
        "  seq_len = 60\n",
        "\n",
        "  if midi_input:\n",
        "    with open('simple_notes_offsets_midi.pkl', 'rb') as f:\n",
        "      midi_note = pickle.load(f)\n",
        "\n",
        "    midi_note = flatten(midi_note)\n",
        "\n",
        "  with open('simple_notes_offsets.pkl', 'rb') as f:\n",
        "    notes = pickle.load(f)\n",
        "\n",
        "  notes = flatten(notes)\n",
        "  note_set_len = len(set(notes))\n",
        "\n",
        "  if midi_input:\n",
        "    note_input = sequence(midi_note, notes, note_set_len, seq_len, midi_input)\n",
        "  else:\n",
        "    note_input = sequence(notes, notes, note_set_len, seq_len, midi_input)\n",
        "\n",
        "  model = create_model(note_set_len, version_num)\n",
        "  generated_notes = note_prediction(model, note_input, notes, seq_len, num_notes=num_notes, midi_input=midi_input)\n",
        "\n",
        "  generate_midi(generated_notes, file_num, version_num)\n",
        "\n",
        "  return\n",
        "\n",
        "\n"
      ],
      "metadata": {
        "id": "wnmVEF2X-Op0"
      },
      "execution_count": null,
      "outputs": []
    },
    {
      "cell_type": "code",
      "source": [
        "for x in range(1,5):\n",
        "  generate('v5_3', x)"
      ],
      "metadata": {
        "id": "svczlKf_ZgRl",
        "colab": {
          "base_uri": "https://localhost:8080/"
        },
        "outputId": "3f82af43-0256-4fa8-e7ce-e57cf4ecc84a"
      },
      "execution_count": null,
      "outputs": [
        {
          "output_type": "stream",
          "name": "stderr",
          "text": [
            "/usr/local/lib/python3.10/dist-packages/keras/initializers/initializers.py:120: UserWarning: The initializer GlorotNormal is unseeded and being called multiple times, which will return identical values each time (even if the initializer is unseeded). Please update your code to provide a seed to the initializer, or avoid using the same initalizer instance more than once.\n",
            "  warnings.warn(\n"
          ]
        }
      ]
    },
    {
      "cell_type": "code",
      "source": [
        "for x in range (1,6):\n",
        "  generate(\"v5_3\", \"Mozart_2\" + \"_\" + str(x), midi_input=True, num_notes = 200)"
      ],
      "metadata": {
        "id": "LppAhFlnP2er",
        "colab": {
          "base_uri": "https://localhost:8080/"
        },
        "outputId": "bf150cb0-4fdc-4da9-df52-eda4102befde"
      },
      "execution_count": null,
      "outputs": [
        {
          "output_type": "stream",
          "name": "stderr",
          "text": [
            "<ipython-input-6-7146120da1ed>:83: RuntimeWarning: divide by zero encountered in log\n",
            "  predicted_note = np.log(predicted_note) / temp\n"
          ]
        }
      ]
    }
  ]
}