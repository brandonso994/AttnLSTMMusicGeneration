{
  "nbformat": 4,
  "nbformat_minor": 0,
  "metadata": {
    "colab": {
      "provenance": [],
      "authorship_tag": "ABX9TyPLLrWgOD4NO6+eUp4x1WUR",
      "include_colab_link": true
    },
    "kernelspec": {
      "name": "python3",
      "display_name": "Python 3"
    },
    "language_info": {
      "name": "python"
    }
  },
  "cells": [
    {
      "cell_type": "markdown",
      "metadata": {
        "id": "view-in-github",
        "colab_type": "text"
      },
      "source": [
        "<a href=\"https://colab.research.google.com/github/brandonso994/AttnLSTMMusicGeneration/blob/main/Convert_Midi.ipynb\" target=\"_parent\"><img src=\"https://colab.research.google.com/assets/colab-badge.svg\" alt=\"Open In Colab\"/></a>"
      ]
    },
    {
      "cell_type": "code",
      "source": [
        "from google.colab import drive\n",
        "drive.mount('/content/drive')"
      ],
      "metadata": {
        "colab": {
          "base_uri": "https://localhost:8080/"
        },
        "id": "Z9SgYhgaGuQb",
        "outputId": "334c670a-5e5c-445e-a308-93b7cb0854da"
      },
      "execution_count": null,
      "outputs": [
        {
          "output_type": "stream",
          "name": "stdout",
          "text": [
            "Mounted at /content/drive\n"
          ]
        }
      ]
    },
    {
      "cell_type": "code",
      "source": [
        "!pip uninstall music21\n",
        "!pip install git+https://github.com/cuthbertLab/music21.git"
      ],
      "metadata": {
        "colab": {
          "base_uri": "https://localhost:8080/"
        },
        "id": "MXIELxUtQ1di",
        "outputId": "9a6ccac5-3dd3-453d-bbfe-e43a709e5d9b"
      },
      "execution_count": null,
      "outputs": [
        {
          "output_type": "stream",
          "name": "stdout",
          "text": [
            "Found existing installation: music21 8.1.0\n",
            "Uninstalling music21-8.1.0:\n",
            "  Would remove:\n",
            "    /usr/local/lib/python3.10/dist-packages/music21-8.1.0.dist-info/*\n",
            "    /usr/local/lib/python3.10/dist-packages/music21/*\n",
            "Proceed (Y/n)? Y\n",
            "  Successfully uninstalled music21-8.1.0\n",
            "Looking in indexes: https://pypi.org/simple, https://us-python.pkg.dev/colab-wheels/public/simple/\n",
            "Collecting git+https://github.com/cuthbertLab/music21.git\n",
            "  Cloning https://github.com/cuthbertLab/music21.git to /tmp/pip-req-build-8soscc8h\n",
            "  Running command git clone --filter=blob:none --quiet https://github.com/cuthbertLab/music21.git /tmp/pip-req-build-8soscc8h\n",
            "  Resolved https://github.com/cuthbertLab/music21.git to commit cf0719a2aa79a719b80a2be3088ebe8353ff30c2\n",
            "  Installing build dependencies ... \u001b[?25l\u001b[?25hdone\n",
            "  Getting requirements to build wheel ... \u001b[?25l\u001b[?25hdone\n",
            "  Preparing metadata (pyproject.toml) ... \u001b[?25l\u001b[?25hdone\n",
            "Requirement already satisfied: chardet in /usr/local/lib/python3.10/dist-packages (from music21==9.1.0) (4.0.0)\n",
            "Requirement already satisfied: joblib in /usr/local/lib/python3.10/dist-packages (from music21==9.1.0) (1.2.0)\n",
            "Requirement already satisfied: jsonpickle in /usr/local/lib/python3.10/dist-packages (from music21==9.1.0) (3.0.1)\n",
            "Requirement already satisfied: matplotlib in /usr/local/lib/python3.10/dist-packages (from music21==9.1.0) (3.7.1)\n",
            "Requirement already satisfied: more-itertools in /usr/local/lib/python3.10/dist-packages (from music21==9.1.0) (9.1.0)\n",
            "Requirement already satisfied: numpy in /usr/local/lib/python3.10/dist-packages (from music21==9.1.0) (1.22.4)\n",
            "Requirement already satisfied: requests in /usr/local/lib/python3.10/dist-packages (from music21==9.1.0) (2.27.1)\n",
            "Requirement already satisfied: webcolors>=1.5 in /usr/local/lib/python3.10/dist-packages (from music21==9.1.0) (1.13)\n",
            "Requirement already satisfied: contourpy>=1.0.1 in /usr/local/lib/python3.10/dist-packages (from matplotlib->music21==9.1.0) (1.0.7)\n",
            "Requirement already satisfied: cycler>=0.10 in /usr/local/lib/python3.10/dist-packages (from matplotlib->music21==9.1.0) (0.11.0)\n",
            "Requirement already satisfied: fonttools>=4.22.0 in /usr/local/lib/python3.10/dist-packages (from matplotlib->music21==9.1.0) (4.39.3)\n",
            "Requirement already satisfied: kiwisolver>=1.0.1 in /usr/local/lib/python3.10/dist-packages (from matplotlib->music21==9.1.0) (1.4.4)\n",
            "Requirement already satisfied: packaging>=20.0 in /usr/local/lib/python3.10/dist-packages (from matplotlib->music21==9.1.0) (23.1)\n",
            "Requirement already satisfied: pillow>=6.2.0 in /usr/local/lib/python3.10/dist-packages (from matplotlib->music21==9.1.0) (8.4.0)\n",
            "Requirement already satisfied: pyparsing>=2.3.1 in /usr/local/lib/python3.10/dist-packages (from matplotlib->music21==9.1.0) (3.0.9)\n",
            "Requirement already satisfied: python-dateutil>=2.7 in /usr/local/lib/python3.10/dist-packages (from matplotlib->music21==9.1.0) (2.8.2)\n",
            "Requirement already satisfied: urllib3<1.27,>=1.21.1 in /usr/local/lib/python3.10/dist-packages (from requests->music21==9.1.0) (1.26.15)\n",
            "Requirement already satisfied: certifi>=2017.4.17 in /usr/local/lib/python3.10/dist-packages (from requests->music21==9.1.0) (2022.12.7)\n",
            "Requirement already satisfied: charset-normalizer~=2.0.0 in /usr/local/lib/python3.10/dist-packages (from requests->music21==9.1.0) (2.0.12)\n",
            "Requirement already satisfied: idna<4,>=2.5 in /usr/local/lib/python3.10/dist-packages (from requests->music21==9.1.0) (3.4)\n",
            "Requirement already satisfied: six>=1.5 in /usr/local/lib/python3.10/dist-packages (from python-dateutil>=2.7->matplotlib->music21==9.1.0) (1.16.0)\n",
            "Building wheels for collected packages: music21\n",
            "  Building wheel for music21 (pyproject.toml) ... \u001b[?25l\u001b[?25hdone\n",
            "  Created wheel for music21: filename=music21-9.1.0-py3-none-any.whl size=22852847 sha256=fde15bb864f3d846a0ae6dd7e6241f438666a9fc7e0ab6cbb3709e2737d47fce\n",
            "  Stored in directory: /tmp/pip-ephem-wheel-cache-f77t4yce/wheels/2f/28/39/7736e454216a81c4ec6ae3a8d179f6c3bc7579585129de8f8b\n",
            "Successfully built music21\n",
            "Installing collected packages: music21\n",
            "Successfully installed music21-9.1.0\n"
          ]
        }
      ]
    },
    {
      "cell_type": "code",
      "execution_count": null,
      "metadata": {
        "id": "gcEG5IrZGSa9"
      },
      "outputs": [],
      "source": [
        "import glob\n",
        "from music21 import converter, key, interval\n",
        "from music21 import *\n",
        "\n",
        "# Transposes MIDI files to a specific key (C Major)\n",
        "def preprocess_midi_files(target_tempo=60):\n",
        "\n",
        "    #midi_files = glob.glob(\"ballade1.mid\")\n",
        "    midi_files = glob.glob(\"*.[mM][iI][dD]\")\n",
        "\n",
        "    files_processed = 0\n",
        "    for midi_file_path in midi_files:\n",
        "        try:\n",
        "          midi_file = converter.parse(midi_file_path)\n",
        "        except:\n",
        "          print(\"Cannot parse file: \" + midi_file_path)\n",
        "          continue\n",
        "\n",
        "        # Transpose to C major\n",
        "        midi_file_key = midi_file.analyze('key')\n",
        "        transpose_interval = interval.Interval(midi_file_key.tonic, pitch.Pitch('C'))\n",
        "        transposed_midi_file = midi_file.transpose(transpose_interval)\n",
        "\n",
        "        preprocessed_file_path = '/content/drive/MyDrive/MRP/classical_all_era_combined_preprocessed/preprocessed_' + midi_file_path\n",
        "        transposed_midi_file.write('midi', fp=preprocessed_file_path)\n",
        "\n",
        "        files_processed += 1\n",
        "\n",
        "        print(f'Preprocessed and transposed {midi_file_path} to C major, saved as {preprocessed_file_path}')\n",
        "\n",
        "    print(\"Files Processed: \" + str(files_processed))"
      ]
    },
    {
      "cell_type": "code",
      "source": [
        "preprocess_midi_files()"
      ],
      "metadata": {
        "colab": {
          "base_uri": "https://localhost:8080/"
        },
        "id": "8ckDHWL-Gjju",
        "outputId": "19af3abe-64e9-4c18-e5ed-2acbb11d9e89"
      },
      "execution_count": null,
      "outputs": [
        {
          "output_type": "stream",
          "name": "stdout",
          "text": [
            "Preprocessed and transposed beethoven_opus10_1_format0.mid to C major, saved as /content/drive/MyDrive/MRP/classical_all_era_combined_preprocessed/preprocessed_beethoven_opus10_1_format0.mid\n",
            "Preprocessed and transposed clementi_opus36_2_2_format0.mid to C major, saved as /content/drive/MyDrive/MRP/classical_all_era_combined_preprocessed/preprocessed_clementi_opus36_2_2_format0.mid\n",
            "Preprocessed and transposed clementi_opus36_2_3_format0.mid to C major, saved as /content/drive/MyDrive/MRP/classical_all_era_combined_preprocessed/preprocessed_clementi_opus36_2_3_format0.mid\n",
            "Preprocessed and transposed mz_333_2_format0.mid to C major, saved as /content/drive/MyDrive/MRP/classical_all_era_combined_preprocessed/preprocessed_mz_333_2_format0.mid\n",
            "Preprocessed and transposed chpn-p9_format0.mid to C major, saved as /content/drive/MyDrive/MRP/classical_all_era_combined_preprocessed/preprocessed_chpn-p9_format0.mid\n"
          ]
        },
        {
          "output_type": "stream",
          "name": "stderr",
          "text": [
            "/usr/local/lib/python3.10/dist-packages/music21/midi/translate.py:874: TranslateWarning: Unable to determine instrument from <music21.midi.MidiEvent SEQUENCE_TRACK_NAME, track=0, channel=None, data=b'F\\xfcr Elise'>; getting generic Instrument\n",
            "  warnings.warn(\n"
          ]
        },
        {
          "output_type": "stream",
          "name": "stdout",
          "text": [
            "Preprocessed and transposed elise_format0.mid to C major, saved as /content/drive/MyDrive/MRP/classical_all_era_combined_preprocessed/preprocessed_elise_format0.mid\n",
            "Preprocessed and transposed debussy_cc_6_format0.mid to C major, saved as /content/drive/MyDrive/MRP/classical_all_era_combined_preprocessed/preprocessed_debussy_cc_6_format0.mid\n",
            "Preprocessed and transposed mz_545_3_format0.mid to C major, saved as /content/drive/MyDrive/MRP/classical_all_era_combined_preprocessed/preprocessed_mz_545_3_format0.mid\n",
            "Preprocessed and transposed mz_331_2_format0.mid to C major, saved as /content/drive/MyDrive/MRP/classical_all_era_combined_preprocessed/preprocessed_mz_331_2_format0.mid\n",
            "Preprocessed and transposed chpn-p18_format0.mid to C major, saved as /content/drive/MyDrive/MRP/classical_all_era_combined_preprocessed/preprocessed_chpn-p18_format0.mid\n",
            "Preprocessed and transposed chpn-p24_format0.mid to C major, saved as /content/drive/MyDrive/MRP/classical_all_era_combined_preprocessed/preprocessed_chpn-p24_format0.mid\n",
            "Preprocessed and transposed beethoven_opus22_4_format0.mid to C major, saved as /content/drive/MyDrive/MRP/classical_all_era_combined_preprocessed/preprocessed_beethoven_opus22_4_format0.mid\n",
            "Preprocessed and transposed scn15_10_format0.mid to C major, saved as /content/drive/MyDrive/MRP/classical_all_era_combined_preprocessed/preprocessed_scn15_10_format0.mid\n",
            "Preprocessed and transposed chpn-p20_format0.mid to C major, saved as /content/drive/MyDrive/MRP/classical_all_era_combined_preprocessed/preprocessed_chpn-p20_format0.mid\n",
            "Preprocessed and transposed clementi_opus36_3_3_format0.mid to C major, saved as /content/drive/MyDrive/MRP/classical_all_era_combined_preprocessed/preprocessed_clementi_opus36_3_3_format0.mid\n",
            "Preprocessed and transposed waldstein_3_format0.mid to C major, saved as /content/drive/MyDrive/MRP/classical_all_era_combined_preprocessed/preprocessed_waldstein_3_format0.mid\n",
            "Preprocessed and transposed chpn-p7_format0.mid to C major, saved as /content/drive/MyDrive/MRP/classical_all_era_combined_preprocessed/preprocessed_chpn-p7_format0.mid\n",
            "Preprocessed and transposed mz_330_3_format0.mid to C major, saved as /content/drive/MyDrive/MRP/classical_all_era_combined_preprocessed/preprocessed_mz_330_3_format0.mid\n",
            "Preprocessed and transposed hay_40_2_format0.mid to C major, saved as /content/drive/MyDrive/MRP/classical_all_era_combined_preprocessed/preprocessed_hay_40_2_format0.mid\n",
            "Preprocessed and transposed beethoven_opus10_2_format0.mid to C major, saved as /content/drive/MyDrive/MRP/classical_all_era_combined_preprocessed/preprocessed_beethoven_opus10_2_format0.mid\n",
            "Preprocessed and transposed deb_pass_format0.mid to C major, saved as /content/drive/MyDrive/MRP/classical_all_era_combined_preprocessed/preprocessed_deb_pass_format0.mid\n",
            "Preprocessed and transposed scn16_7_format0.mid to C major, saved as /content/drive/MyDrive/MRP/classical_all_era_combined_preprocessed/preprocessed_scn16_7_format0.mid\n",
            "Preprocessed and transposed scn15_4_format0.mid to C major, saved as /content/drive/MyDrive/MRP/classical_all_era_combined_preprocessed/preprocessed_scn15_4_format0.mid\n",
            "Preprocessed and transposed chpn-p22_format0.mid to C major, saved as /content/drive/MyDrive/MRP/classical_all_era_combined_preprocessed/preprocessed_chpn-p22_format0.mid\n",
            "Preprocessed and transposed chpn_op25_e3_format0.mid to C major, saved as /content/drive/MyDrive/MRP/classical_all_era_combined_preprocessed/preprocessed_chpn_op25_e3_format0.mid\n",
            "Preprocessed and transposed clementi_opus36_1_1_format0.mid to C major, saved as /content/drive/MyDrive/MRP/classical_all_era_combined_preprocessed/preprocessed_clementi_opus36_1_1_format0.mid\n"
          ]
        },
        {
          "output_type": "stream",
          "name": "stderr",
          "text": [
            "/usr/local/lib/python3.10/dist-packages/music21/midi/translate.py:874: TranslateWarning: Unable to determine instrument from <music21.midi.MidiEvent SEQUENCE_TRACK_NAME, track=0, channel=None, data=b'Von fremden L\\xe4ndern und Menschen'>; getting generic Instrument\n",
            "  warnings.warn(\n"
          ]
        },
        {
          "output_type": "stream",
          "name": "stdout",
          "text": [
            "Preprocessed and transposed scn15_1_format0.mid to C major, saved as /content/drive/MyDrive/MRP/classical_all_era_combined_preprocessed/preprocessed_scn15_1_format0.mid\n",
            "Preprocessed and transposed chpn-p13_format0.mid to C major, saved as /content/drive/MyDrive/MRP/classical_all_era_combined_preprocessed/preprocessed_chpn-p13_format0.mid\n",
            "Preprocessed and transposed clementi_opus36_4_2_format0.mid to C major, saved as /content/drive/MyDrive/MRP/classical_all_era_combined_preprocessed/preprocessed_clementi_opus36_4_2_format0.mid\n",
            "Preprocessed and transposed haydn_7_2_format0.mid to C major, saved as /content/drive/MyDrive/MRP/classical_all_era_combined_preprocessed/preprocessed_haydn_7_2_format0.mid\n"
          ]
        },
        {
          "output_type": "stream",
          "name": "stderr",
          "text": [
            "/usr/local/lib/python3.10/dist-packages/music21/midi/translate.py:874: TranslateWarning: Unable to determine instrument from <music21.midi.MidiEvent SEQUENCE_TRACK_NAME, track=0, channel=None, data=b'Et\\xfcde Opus 25, No. 11'>; getting generic Instrument\n",
            "  warnings.warn(\n",
            "/usr/local/lib/python3.10/dist-packages/music21/midi/translate.py:874: TranslateWarning: Unable to determine instrument from <music21.midi.MidiEvent SEQUENCE_TRACK_NAME, track=0, channel=None, data=b'Sturmet\\xfcde'>; getting generic Instrument\n",
            "  warnings.warn(\n"
          ]
        },
        {
          "output_type": "stream",
          "name": "stdout",
          "text": [
            "Preprocessed and transposed chpn_op25_e11_format0.mid to C major, saved as /content/drive/MyDrive/MRP/classical_all_era_combined_preprocessed/preprocessed_chpn_op25_e11_format0.mid\n",
            "Preprocessed and transposed clementi_opus36_6_1_format0.mid to C major, saved as /content/drive/MyDrive/MRP/classical_all_era_combined_preprocessed/preprocessed_clementi_opus36_6_1_format0.mid\n",
            "Preprocessed and transposed mz_333_3_format0.mid to C major, saved as /content/drive/MyDrive/MRP/classical_all_era_combined_preprocessed/preprocessed_mz_333_3_format0.mid\n",
            "Preprocessed and transposed haydn_35_1_format0.mid to C major, saved as /content/drive/MyDrive/MRP/classical_all_era_combined_preprocessed/preprocessed_haydn_35_1_format0.mid\n",
            "Preprocessed and transposed haydn_33_3_format0.mid to C major, saved as /content/drive/MyDrive/MRP/classical_all_era_combined_preprocessed/preprocessed_haydn_33_3_format0.mid\n",
            "Preprocessed and transposed haydn_8_4_format0.mid to C major, saved as /content/drive/MyDrive/MRP/classical_all_era_combined_preprocessed/preprocessed_haydn_8_4_format0.mid\n",
            "Preprocessed and transposed mz_332_3_format0.mid to C major, saved as /content/drive/MyDrive/MRP/classical_all_era_combined_preprocessed/preprocessed_mz_332_3_format0.mid\n",
            "Preprocessed and transposed chpn_op27_1_format0.mid to C major, saved as /content/drive/MyDrive/MRP/classical_all_era_combined_preprocessed/preprocessed_chpn_op27_1_format0.mid\n",
            "Preprocessed and transposed mz_332_2_format0.mid to C major, saved as /content/drive/MyDrive/MRP/classical_all_era_combined_preprocessed/preprocessed_mz_332_2_format0.mid\n",
            "Preprocessed and transposed chpn_op25_e4_format0.mid to C major, saved as /content/drive/MyDrive/MRP/classical_all_era_combined_preprocessed/preprocessed_chpn_op25_e4_format0.mid\n",
            "Preprocessed and transposed mz_332_1_format0.mid to C major, saved as /content/drive/MyDrive/MRP/classical_all_era_combined_preprocessed/preprocessed_mz_332_1_format0.mid\n",
            "Preprocessed and transposed chpn_op27_2_format0.mid to C major, saved as /content/drive/MyDrive/MRP/classical_all_era_combined_preprocessed/preprocessed_chpn_op27_2_format0.mid\n",
            "Preprocessed and transposed mz_311_2_format0.mid to C major, saved as /content/drive/MyDrive/MRP/classical_all_era_combined_preprocessed/preprocessed_mz_311_2_format0.mid\n",
            "Preprocessed and transposed chpn-p8_format0.mid to C major, saved as /content/drive/MyDrive/MRP/classical_all_era_combined_preprocessed/preprocessed_chpn-p8_format0.mid\n",
            "Preprocessed and transposed chpn-p10_format0.mid to C major, saved as /content/drive/MyDrive/MRP/classical_all_era_combined_preprocessed/preprocessed_chpn-p10_format0.mid\n",
            "Preprocessed and transposed pathetique_1_format0.mid to C major, saved as /content/drive/MyDrive/MRP/classical_all_era_combined_preprocessed/preprocessed_pathetique_1_format0.mid\n",
            "Preprocessed and transposed haydn_35_2_format0.mid to C major, saved as /content/drive/MyDrive/MRP/classical_all_era_combined_preprocessed/preprocessed_haydn_35_2_format0.mid\n",
            "Preprocessed and transposed appass_1_format0.mid to C major, saved as /content/drive/MyDrive/MRP/classical_all_era_combined_preprocessed/preprocessed_appass_1_format0.mid\n",
            "Preprocessed and transposed scn15_13_format0.mid to C major, saved as /content/drive/MyDrive/MRP/classical_all_era_combined_preprocessed/preprocessed_scn15_13_format0.mid\n",
            "Preprocessed and transposed chpn_op35_3_format0.mid to C major, saved as /content/drive/MyDrive/MRP/classical_all_era_combined_preprocessed/preprocessed_chpn_op35_3_format0.mid\n",
            "Preprocessed and transposed beethoven_les_adieux_3_format0.mid to C major, saved as /content/drive/MyDrive/MRP/classical_all_era_combined_preprocessed/preprocessed_beethoven_les_adieux_3_format0.mid\n",
            "Preprocessed and transposed clementi_opus36_3_1_format0.mid to C major, saved as /content/drive/MyDrive/MRP/classical_all_era_combined_preprocessed/preprocessed_clementi_opus36_3_1_format0.mid\n",
            "Preprocessed and transposed haydn_33_2_format0.mid to C major, saved as /content/drive/MyDrive/MRP/classical_all_era_combined_preprocessed/preprocessed_haydn_33_2_format0.mid\n",
            "Preprocessed and transposed haydn_9_2_format0.mid to C major, saved as /content/drive/MyDrive/MRP/classical_all_era_combined_preprocessed/preprocessed_haydn_9_2_format0.mid\n",
            "Preprocessed and transposed haydn_43_2_format0.mid to C major, saved as /content/drive/MyDrive/MRP/classical_all_era_combined_preprocessed/preprocessed_haydn_43_2_format0.mid\n",
            "Preprocessed and transposed chpn_op66_format0.mid to C major, saved as /content/drive/MyDrive/MRP/classical_all_era_combined_preprocessed/preprocessed_chpn_op66_format0.mid\n",
            "Preprocessed and transposed haydn_8_3_format0.mid to C major, saved as /content/drive/MyDrive/MRP/classical_all_era_combined_preprocessed/preprocessed_haydn_8_3_format0.mid\n",
            "Preprocessed and transposed chpn-p4_format0.mid to C major, saved as /content/drive/MyDrive/MRP/classical_all_era_combined_preprocessed/preprocessed_chpn-p4_format0.mid\n",
            "Preprocessed and transposed clementi_opus36_2_1_format0.mid to C major, saved as /content/drive/MyDrive/MRP/classical_all_era_combined_preprocessed/preprocessed_clementi_opus36_2_1_format0.mid\n",
            "Preprocessed and transposed debussy_cc_3_format0.mid to C major, saved as /content/drive/MyDrive/MRP/classical_all_era_combined_preprocessed/preprocessed_debussy_cc_3_format0.mid\n",
            "Preprocessed and transposed beethoven_opus22_1_format0.mid to C major, saved as /content/drive/MyDrive/MRP/classical_all_era_combined_preprocessed/preprocessed_beethoven_opus22_1_format0.mid\n",
            "Preprocessed and transposed haydn_35_3_format0.mid to C major, saved as /content/drive/MyDrive/MRP/classical_all_era_combined_preprocessed/preprocessed_haydn_35_3_format0.mid\n",
            "Preprocessed and transposed scn16_2_format0.mid to C major, saved as /content/drive/MyDrive/MRP/classical_all_era_combined_preprocessed/preprocessed_scn16_2_format0.mid\n",
            "Preprocessed and transposed chpn_op35_4_format0.mid to C major, saved as /content/drive/MyDrive/MRP/classical_all_era_combined_preprocessed/preprocessed_chpn_op35_4_format0.mid\n",
            "Preprocessed and transposed chpn-p14_format0.mid to C major, saved as /content/drive/MyDrive/MRP/classical_all_era_combined_preprocessed/preprocessed_chpn-p14_format0.mid\n",
            "Preprocessed and transposed chpn_op33_4_format0.mid to C major, saved as /content/drive/MyDrive/MRP/classical_all_era_combined_preprocessed/preprocessed_chpn_op33_4_format0.mid\n"
          ]
        },
        {
          "output_type": "stream",
          "name": "stderr",
          "text": [
            "/usr/local/lib/python3.10/dist-packages/music21/midi/translate.py:874: TranslateWarning: Unable to determine instrument from <music21.midi.MidiEvent SEQUENCE_TRACK_NAME, track=0, channel=None, data=b'Tr\\xe4umerei'>; getting generic Instrument\n",
            "  warnings.warn(\n"
          ]
        },
        {
          "output_type": "stream",
          "name": "stdout",
          "text": [
            "Preprocessed and transposed scn15_7_format0.mid to C major, saved as /content/drive/MyDrive/MRP/classical_all_era_combined_preprocessed/preprocessed_scn15_7_format0.mid\n"
          ]
        },
        {
          "output_type": "stream",
          "name": "stderr",
          "text": [
            "/usr/local/lib/python3.10/dist-packages/music21/midi/translate.py:874: TranslateWarning: Unable to determine instrument from <music21.midi.MidiEvent SEQUENCE_TRACK_NAME, track=0, channel=None, data=b'Schumann:   Fr\\xf6hlicher Landmann, von der Arbeit zur\\xfcckkehrend'>; getting generic Instrument\n",
            "  warnings.warn(\n",
            "/usr/local/lib/python3.10/dist-packages/music21/midi/translate.py:874: TranslateWarning: Unable to determine instrument from <music21.midi.MidiEvent SEQUENCE_TRACK_NAME, track=0, channel=None, data=b'aus Album f\\xfcr die Jugend Opus 68, Nr. 10'>; getting generic Instrument\n",
            "  warnings.warn(\n"
          ]
        },
        {
          "output_type": "stream",
          "name": "stdout",
          "text": [
            "Preprocessed and transposed scn68_10_format0.mid to C major, saved as /content/drive/MyDrive/MRP/classical_all_era_combined_preprocessed/preprocessed_scn68_10_format0.mid\n"
          ]
        },
        {
          "output_type": "stream",
          "name": "stderr",
          "text": [
            "/usr/local/lib/python3.10/dist-packages/music21/midi/translate.py:874: TranslateWarning: Unable to determine instrument from <music21.midi.MidiEvent SEQUENCE_TRACK_NAME, track=0, channel=None, data=b'Mondscheinsonate; der Gr\\xe4fin Giulietta Guiccardi gewidmet'>; getting generic Instrument\n",
            "  warnings.warn(\n"
          ]
        },
        {
          "output_type": "stream",
          "name": "stdout",
          "text": [
            "Preprocessed and transposed mond_2_format0.mid to C major, saved as /content/drive/MyDrive/MRP/classical_all_era_combined_preprocessed/preprocessed_mond_2_format0.mid\n",
            "Preprocessed and transposed scn16_3_format0.mid to C major, saved as /content/drive/MyDrive/MRP/classical_all_era_combined_preprocessed/preprocessed_scn16_3_format0.mid\n",
            "Preprocessed and transposed chpn_op33_2_format0.mid to C major, saved as /content/drive/MyDrive/MRP/classical_all_era_combined_preprocessed/preprocessed_chpn_op33_2_format0.mid\n",
            "Preprocessed and transposed chpn-p6_format0.mid to C major, saved as /content/drive/MyDrive/MRP/classical_all_era_combined_preprocessed/preprocessed_chpn-p6_format0.mid\n",
            "Preprocessed and transposed schum_abegg_format0.mid to C major, saved as /content/drive/MyDrive/MRP/classical_all_era_combined_preprocessed/preprocessed_schum_abegg_format0.mid\n",
            "Preprocessed and transposed chpn-p12_format0.mid to C major, saved as /content/drive/MyDrive/MRP/classical_all_era_combined_preprocessed/preprocessed_chpn-p12_format0.mid\n",
            "Preprocessed and transposed haydn_7_3_format0.mid to C major, saved as /content/drive/MyDrive/MRP/classical_all_era_combined_preprocessed/preprocessed_haydn_7_3_format0.mid\n",
            "Preprocessed and transposed beethoven_hammerklavier_2_format0.mid to C major, saved as /content/drive/MyDrive/MRP/classical_all_era_combined_preprocessed/preprocessed_beethoven_hammerklavier_2_format0.mid\n",
            "Preprocessed and transposed mz_311_1_format0.mid to C major, saved as /content/drive/MyDrive/MRP/classical_all_era_combined_preprocessed/preprocessed_mz_311_1_format0.mid\n",
            "Preprocessed and transposed beethoven_opus90_2_format0.mid to C major, saved as /content/drive/MyDrive/MRP/classical_all_era_combined_preprocessed/preprocessed_beethoven_opus90_2_format0.mid\n",
            "Preprocessed and transposed chpn_op25_e12_format0.mid to C major, saved as /content/drive/MyDrive/MRP/classical_all_era_combined_preprocessed/preprocessed_chpn_op25_e12_format0.mid\n",
            "Preprocessed and transposed haydn_7_1_format0.mid to C major, saved as /content/drive/MyDrive/MRP/classical_all_era_combined_preprocessed/preprocessed_haydn_7_1_format0.mid\n",
            "Preprocessed and transposed deb_prel_format0.mid to C major, saved as /content/drive/MyDrive/MRP/classical_all_era_combined_preprocessed/preprocessed_deb_prel_format0.mid\n",
            "Preprocessed and transposed mz_331_1_format0.mid to C major, saved as /content/drive/MyDrive/MRP/classical_all_era_combined_preprocessed/preprocessed_mz_331_1_format0.mid\n",
            "Preprocessed and transposed beethoven_hammerklavier_4_format0.mid to C major, saved as /content/drive/MyDrive/MRP/classical_all_era_combined_preprocessed/preprocessed_beethoven_hammerklavier_4_format0.mid\n",
            "Preprocessed and transposed mz_333_1_format0.mid to C major, saved as /content/drive/MyDrive/MRP/classical_all_era_combined_preprocessed/preprocessed_mz_333_1_format0.mid\n",
            "Preprocessed and transposed mz_545_1_format0.mid to C major, saved as /content/drive/MyDrive/MRP/classical_all_era_combined_preprocessed/preprocessed_mz_545_1_format0.mid\n",
            "Preprocessed and transposed pathetique_3_format0.mid to C major, saved as /content/drive/MyDrive/MRP/classical_all_era_combined_preprocessed/preprocessed_pathetique_3_format0.mid\n",
            "Preprocessed and transposed debussy_cc_2_format0.mid to C major, saved as /content/drive/MyDrive/MRP/classical_all_era_combined_preprocessed/preprocessed_debussy_cc_2_format0.mid\n",
            "Preprocessed and transposed waldstein_2_format0.mid to C major, saved as /content/drive/MyDrive/MRP/classical_all_era_combined_preprocessed/preprocessed_waldstein_2_format0.mid\n",
            "Preprocessed and transposed deb_menu_format0.mid to C major, saved as /content/drive/MyDrive/MRP/classical_all_era_combined_preprocessed/preprocessed_deb_menu_format0.mid\n",
            "Preprocessed and transposed beethoven_les_adieux_2_format0.mid to C major, saved as /content/drive/MyDrive/MRP/classical_all_era_combined_preprocessed/preprocessed_beethoven_les_adieux_2_format0.mid\n",
            "Preprocessed and transposed mz_570_1_format0.mid to C major, saved as /content/drive/MyDrive/MRP/classical_all_era_combined_preprocessed/preprocessed_mz_570_1_format0.mid\n",
            "Preprocessed and transposed debussy_cc_1_format0.mid to C major, saved as /content/drive/MyDrive/MRP/classical_all_era_combined_preprocessed/preprocessed_debussy_cc_1_format0.mid\n",
            "Preprocessed and transposed waldstein_1_format0.mid to C major, saved as /content/drive/MyDrive/MRP/classical_all_era_combined_preprocessed/preprocessed_waldstein_1_format0.mid\n",
            "Preprocessed and transposed haydn_33_1_format0.mid to C major, saved as /content/drive/MyDrive/MRP/classical_all_era_combined_preprocessed/preprocessed_haydn_33_1_format0.mid\n",
            "Preprocessed and transposed debussy_cc_5_format0.mid to C major, saved as /content/drive/MyDrive/MRP/classical_all_era_combined_preprocessed/preprocessed_debussy_cc_5_format0.mid\n",
            "Preprocessed and transposed chpn-p21_format0.mid to C major, saved as /content/drive/MyDrive/MRP/classical_all_era_combined_preprocessed/preprocessed_chpn-p21_format0.mid\n",
            "Preprocessed and transposed chpn_op35_1_format0.mid to C major, saved as /content/drive/MyDrive/MRP/classical_all_era_combined_preprocessed/preprocessed_chpn_op35_1_format0.mid\n",
            "Preprocessed and transposed chpn-p3_format0.mid to C major, saved as /content/drive/MyDrive/MRP/classical_all_era_combined_preprocessed/preprocessed_chpn-p3_format0.mid\n",
            "Preprocessed and transposed clementi_opus36_1_2_format0.mid to C major, saved as /content/drive/MyDrive/MRP/classical_all_era_combined_preprocessed/preprocessed_clementi_opus36_1_2_format0.mid\n",
            "Preprocessed and transposed scn16_6_format0.mid to C major, saved as /content/drive/MyDrive/MRP/classical_all_era_combined_preprocessed/preprocessed_scn16_6_format0.mid\n",
            "Preprocessed and transposed clementi_opus36_5_2_format0.mid to C major, saved as /content/drive/MyDrive/MRP/classical_all_era_combined_preprocessed/preprocessed_clementi_opus36_5_2_format0.mid\n",
            "Preprocessed and transposed scn15_3_format0.mid to C major, saved as /content/drive/MyDrive/MRP/classical_all_era_combined_preprocessed/preprocessed_scn15_3_format0.mid\n",
            "Preprocessed and transposed scn15_12_format0.mid to C major, saved as /content/drive/MyDrive/MRP/classical_all_era_combined_preprocessed/preprocessed_scn15_12_format0.mid\n",
            "Preprocessed and transposed pathetique_2_format0.mid to C major, saved as /content/drive/MyDrive/MRP/classical_all_era_combined_preprocessed/preprocessed_pathetique_2_format0.mid\n",
            "Preprocessed and transposed chpn-p15_format0.mid to C major, saved as /content/drive/MyDrive/MRP/classical_all_era_combined_preprocessed/preprocessed_chpn-p15_format0.mid\n"
          ]
        },
        {
          "output_type": "stream",
          "name": "stderr",
          "text": [
            "/usr/local/lib/python3.10/dist-packages/music21/midi/translate.py:874: TranslateWarning: Unable to determine instrument from <music21.midi.MidiEvent SEQUENCE_TRACK_NAME, track=0, channel=None, data=b'F\\xfcrchtenmachen'>; getting generic Instrument\n",
            "  warnings.warn(\n"
          ]
        },
        {
          "output_type": "stream",
          "name": "stdout",
          "text": [
            "Preprocessed and transposed scn15_11_format0.mid to C major, saved as /content/drive/MyDrive/MRP/classical_all_era_combined_preprocessed/preprocessed_scn15_11_format0.mid\n",
            "Preprocessed and transposed haydn_9_3_format0.mid to C major, saved as /content/drive/MyDrive/MRP/classical_all_era_combined_preprocessed/preprocessed_haydn_9_3_format0.mid\n",
            "Preprocessed and transposed scn16_5_format0.mid to C major, saved as /content/drive/MyDrive/MRP/classical_all_era_combined_preprocessed/preprocessed_scn16_5_format0.mid\n",
            "Preprocessed and transposed chpn-p2_format0.mid to C major, saved as /content/drive/MyDrive/MRP/classical_all_era_combined_preprocessed/preprocessed_chpn-p2_format0.mid\n",
            "Preprocessed and transposed beethoven_opus22_3_format0.mid to C major, saved as /content/drive/MyDrive/MRP/classical_all_era_combined_preprocessed/preprocessed_beethoven_opus22_3_format0.mid\n",
            "Preprocessed and transposed beethoven_hammerklavier_3_format0.mid to C major, saved as /content/drive/MyDrive/MRP/classical_all_era_combined_preprocessed/preprocessed_beethoven_hammerklavier_3_format0.mid\n",
            "Preprocessed and transposed chpn-p16_format0.mid to C major, saved as /content/drive/MyDrive/MRP/classical_all_era_combined_preprocessed/preprocessed_chpn-p16_format0.mid\n",
            "Preprocessed and transposed haydn_43_1_format0.mid to C major, saved as /content/drive/MyDrive/MRP/classical_all_era_combined_preprocessed/preprocessed_haydn_43_1_format0.mid\n",
            "Preprocessed and transposed beethoven_opus10_3_format0.mid to C major, saved as /content/drive/MyDrive/MRP/classical_all_era_combined_preprocessed/preprocessed_beethoven_opus10_3_format0.mid\n",
            "Preprocessed and transposed appass_2_format0.mid to C major, saved as /content/drive/MyDrive/MRP/classical_all_era_combined_preprocessed/preprocessed_appass_2_format0.mid\n",
            "Preprocessed and transposed haydn_43_3_format0.mid to C major, saved as /content/drive/MyDrive/MRP/classical_all_era_combined_preprocessed/preprocessed_haydn_43_3_format0.mid\n",
            "Preprocessed and transposed clementi_opus36_3_2_format0.mid to C major, saved as /content/drive/MyDrive/MRP/classical_all_era_combined_preprocessed/preprocessed_clementi_opus36_3_2_format0.mid\n",
            "Preprocessed and transposed beethoven_les_adieux_1_format0.mid to C major, saved as /content/drive/MyDrive/MRP/classical_all_era_combined_preprocessed/preprocessed_beethoven_les_adieux_1_format0.mid\n"
          ]
        },
        {
          "output_type": "stream",
          "name": "stderr",
          "text": [
            "/usr/local/lib/python3.10/dist-packages/music21/midi/translate.py:874: TranslateWarning: Unable to determine instrument from <music21.midi.MidiEvent SEQUENCE_TRACK_NAME, track=0, channel=None, data=b'Gl\\xfcckes genug'>; getting generic Instrument\n",
            "  warnings.warn(\n"
          ]
        },
        {
          "output_type": "stream",
          "name": "stdout",
          "text": [
            "Preprocessed and transposed scn15_5_format0.mid to C major, saved as /content/drive/MyDrive/MRP/classical_all_era_combined_preprocessed/preprocessed_scn15_5_format0.mid\n",
            "Preprocessed and transposed haydn_8_1_format0.mid to C major, saved as /content/drive/MyDrive/MRP/classical_all_era_combined_preprocessed/preprocessed_haydn_8_1_format0.mid\n",
            "Preprocessed and transposed chpn_op7_1_format0.mid to C major, saved as /content/drive/MyDrive/MRP/classical_all_era_combined_preprocessed/preprocessed_chpn_op7_1_format0.mid\n",
            "Preprocessed and transposed mz_311_3_format0.mid to C major, saved as /content/drive/MyDrive/MRP/classical_all_era_combined_preprocessed/preprocessed_mz_311_3_format0.mid\n"
          ]
        },
        {
          "output_type": "stream",
          "name": "stderr",
          "text": [
            "/usr/local/lib/python3.10/dist-packages/music21/midi/translate.py:874: TranslateWarning: Unable to determine instrument from <music21.midi.MidiEvent SEQUENCE_TRACK_NAME, track=0, channel=None, data=b'Schumann: Knecht Ruprecht aus  Album f\\xfcr die Jugend Opus 68'>; getting generic Instrument\n",
            "  warnings.warn(\n"
          ]
        },
        {
          "output_type": "stream",
          "name": "stdout",
          "text": [
            "Preprocessed and transposed scn68_12_format0.mid to C major, saved as /content/drive/MyDrive/MRP/classical_all_era_combined_preprocessed/preprocessed_scn68_12_format0.mid\n",
            "Preprocessed and transposed appass_3_format0.mid to C major, saved as /content/drive/MyDrive/MRP/classical_all_era_combined_preprocessed/preprocessed_appass_3_format0.mid\n",
            "Preprocessed and transposed scn16_4_format0.mid to C major, saved as /content/drive/MyDrive/MRP/classical_all_era_combined_preprocessed/preprocessed_scn16_4_format0.mid\n",
            "Preprocessed and transposed scn15_6_format0.mid to C major, saved as /content/drive/MyDrive/MRP/classical_all_era_combined_preprocessed/preprocessed_scn15_6_format0.mid\n",
            "Preprocessed and transposed beethoven_opus90_1_format0.mid to C major, saved as /content/drive/MyDrive/MRP/classical_all_era_combined_preprocessed/preprocessed_beethoven_opus90_1_format0.mid\n",
            "Preprocessed and transposed mz_545_2_format0.mid to C major, saved as /content/drive/MyDrive/MRP/classical_all_era_combined_preprocessed/preprocessed_mz_545_2_format0.mid\n",
            "Preprocessed and transposed clementi_opus36_5_1_format0.mid to C major, saved as /content/drive/MyDrive/MRP/classical_all_era_combined_preprocessed/preprocessed_clementi_opus36_5_1_format0.mid\n",
            "Preprocessed and transposed chpn_op25_e1_format0.mid to C major, saved as /content/drive/MyDrive/MRP/classical_all_era_combined_preprocessed/preprocessed_chpn_op25_e1_format0.mid\n",
            "Preprocessed and transposed scn15_9_format0.mid to C major, saved as /content/drive/MyDrive/MRP/classical_all_era_combined_preprocessed/preprocessed_scn15_9_format0.mid\n",
            "Preprocessed and transposed chpn-p11_format0.mid to C major, saved as /content/drive/MyDrive/MRP/classical_all_era_combined_preprocessed/preprocessed_chpn-p11_format0.mid\n",
            "Preprocessed and transposed mz_330_2_format0.mid to C major, saved as /content/drive/MyDrive/MRP/classical_all_era_combined_preprocessed/preprocessed_mz_330_2_format0.mid\n",
            "Preprocessed and transposed chpn_op23_format0.mid to C major, saved as /content/drive/MyDrive/MRP/classical_all_era_combined_preprocessed/preprocessed_chpn_op23_format0.mid\n"
          ]
        },
        {
          "output_type": "stream",
          "name": "stderr",
          "text": [
            "/usr/local/lib/python3.10/dist-packages/music21/midi/translate.py:874: TranslateWarning: Unable to determine instrument from <music21.midi.MidiEvent SEQUENCE_TRACK_NAME, track=0, channel=None, data=b'Et\\xfcde Nr. 12'>; getting generic Instrument\n",
            "  warnings.warn(\n"
          ]
        },
        {
          "output_type": "stream",
          "name": "stdout",
          "text": [
            "Preprocessed and transposed chpn_op10_e12_format0.mid to C major, saved as /content/drive/MyDrive/MRP/classical_all_era_combined_preprocessed/preprocessed_chpn_op10_e12_format0.mid\n",
            "Preprocessed and transposed chpn-p19_format0.mid to C major, saved as /content/drive/MyDrive/MRP/classical_all_era_combined_preprocessed/preprocessed_chpn-p19_format0.mid\n",
            "Preprocessed and transposed clementi_opus36_4_1_format0.mid to C major, saved as /content/drive/MyDrive/MRP/classical_all_era_combined_preprocessed/preprocessed_clementi_opus36_4_1_format0.mid\n",
            "Preprocessed and transposed chp_op18_format0.mid to C major, saved as /content/drive/MyDrive/MRP/classical_all_era_combined_preprocessed/preprocessed_chp_op18_format0.mid\n",
            "Preprocessed and transposed mond_1_format0.mid to C major, saved as /content/drive/MyDrive/MRP/classical_all_era_combined_preprocessed/preprocessed_mond_1_format0.mid\n",
            "Preprocessed and transposed scn15_2_format0.mid to C major, saved as /content/drive/MyDrive/MRP/classical_all_era_combined_preprocessed/preprocessed_scn15_2_format0.mid\n",
            "Preprocessed and transposed debussy_cc_4_format0.mid to C major, saved as /content/drive/MyDrive/MRP/classical_all_era_combined_preprocessed/preprocessed_debussy_cc_4_format0.mid\n",
            "Preprocessed and transposed beethoven_hammerklavier_1_format0.mid to C major, saved as /content/drive/MyDrive/MRP/classical_all_era_combined_preprocessed/preprocessed_beethoven_hammerklavier_1_format0.mid\n",
            "Preprocessed and transposed mz_570_2_format0.mid to C major, saved as /content/drive/MyDrive/MRP/classical_all_era_combined_preprocessed/preprocessed_mz_570_2_format0.mid\n",
            "Preprocessed and transposed haydn_8_2_format0.mid to C major, saved as /content/drive/MyDrive/MRP/classical_all_era_combined_preprocessed/preprocessed_haydn_8_2_format0.mid\n",
            "Preprocessed and transposed deb_clai_format0.mid to C major, saved as /content/drive/MyDrive/MRP/classical_all_era_combined_preprocessed/preprocessed_deb_clai_format0.mid\n",
            "Preprocessed and transposed scn16_8_format0.mid to C major, saved as /content/drive/MyDrive/MRP/classical_all_era_combined_preprocessed/preprocessed_scn16_8_format0.mid\n",
            "Preprocessed and transposed clementi_opus36_6_2_format0.mid to C major, saved as /content/drive/MyDrive/MRP/classical_all_era_combined_preprocessed/preprocessed_clementi_opus36_6_2_format0.mid\n",
            "Preprocessed and transposed clementi_opus36_4_3_format0.mid to C major, saved as /content/drive/MyDrive/MRP/classical_all_era_combined_preprocessed/preprocessed_clementi_opus36_4_3_format0.mid\n"
          ]
        },
        {
          "output_type": "stream",
          "name": "stderr",
          "text": [
            "/usr/local/lib/python3.10/dist-packages/music21/midi/translate.py:874: TranslateWarning: Unable to determine instrument from <music21.midi.MidiEvent SEQUENCE_TRACK_NAME, track=0, channel=None, data=b'Et\\xfcde Opus 10 No. 5'>; getting generic Instrument\n",
            "  warnings.warn(\n"
          ]
        },
        {
          "output_type": "stream",
          "name": "stdout",
          "text": [
            "Preprocessed and transposed chpn_op10_e01_format0.mid to C major, saved as /content/drive/MyDrive/MRP/classical_all_era_combined_preprocessed/preprocessed_chpn_op10_e01_format0.mid\n",
            "Preprocessed and transposed scn16_1_format0.mid to C major, saved as /content/drive/MyDrive/MRP/classical_all_era_combined_preprocessed/preprocessed_scn16_1_format0.mid\n",
            "Preprocessed and transposed chpn-p5_format0.mid to C major, saved as /content/drive/MyDrive/MRP/classical_all_era_combined_preprocessed/preprocessed_chpn-p5_format0.mid\n"
          ]
        },
        {
          "output_type": "stream",
          "name": "stderr",
          "text": [
            "/usr/local/lib/python3.10/dist-packages/music21/midi/translate.py:874: TranslateWarning: Unable to determine instrument from <music21.midi.MidiEvent SEQUENCE_TRACK_NAME, track=0, channel=None, data=b'Schwarze-Tasten-Et\\xfcde'>; getting generic Instrument\n",
            "  warnings.warn(\n"
          ]
        },
        {
          "output_type": "stream",
          "name": "stdout",
          "text": [
            "Preprocessed and transposed chpn_op10_e05_format0.mid to C major, saved as /content/drive/MyDrive/MRP/classical_all_era_combined_preprocessed/preprocessed_chpn_op10_e05_format0.mid\n",
            "Preprocessed and transposed mz_331_3_format0.mid to C major, saved as /content/drive/MyDrive/MRP/classical_all_era_combined_preprocessed/preprocessed_mz_331_3_format0.mid\n",
            "Preprocessed and transposed mz_570_3_format0.mid to C major, saved as /content/drive/MyDrive/MRP/classical_all_era_combined_preprocessed/preprocessed_mz_570_3_format0.mid\n",
            "Preprocessed and transposed chpn-p23_format0.mid to C major, saved as /content/drive/MyDrive/MRP/classical_all_era_combined_preprocessed/preprocessed_chpn-p23_format0.mid\n",
            "Preprocessed and transposed chpn_op7_2_format0.mid to C major, saved as /content/drive/MyDrive/MRP/classical_all_era_combined_preprocessed/preprocessed_chpn_op7_2_format0.mid\n",
            "Preprocessed and transposed chpn_op35_2_format0.mid to C major, saved as /content/drive/MyDrive/MRP/classical_all_era_combined_preprocessed/preprocessed_chpn_op35_2_format0.mid\n",
            "Preprocessed and transposed mond_3_format0.mid to C major, saved as /content/drive/MyDrive/MRP/classical_all_era_combined_preprocessed/preprocessed_mond_3_format0.mid\n",
            "Preprocessed and transposed mz_330_1_format0.mid to C major, saved as /content/drive/MyDrive/MRP/classical_all_era_combined_preprocessed/preprocessed_mz_330_1_format0.mid\n",
            "Preprocessed and transposed chpn_op53_format0.mid to C major, saved as /content/drive/MyDrive/MRP/classical_all_era_combined_preprocessed/preprocessed_chpn_op53_format0.mid\n",
            "Preprocessed and transposed chpn-p17_format0.mid to C major, saved as /content/drive/MyDrive/MRP/classical_all_era_combined_preprocessed/preprocessed_chpn-p17_format0.mid\n",
            "Preprocessed and transposed scn15_8_format0.mid to C major, saved as /content/drive/MyDrive/MRP/classical_all_era_combined_preprocessed/preprocessed_scn15_8_format0.mid\n",
            "Preprocessed and transposed beethoven_opus22_2_format0.mid to C major, saved as /content/drive/MyDrive/MRP/classical_all_era_combined_preprocessed/preprocessed_beethoven_opus22_2_format0.mid\n",
            "Preprocessed and transposed haydn_9_1_format0.mid to C major, saved as /content/drive/MyDrive/MRP/classical_all_era_combined_preprocessed/preprocessed_haydn_9_1_format0.mid\n",
            "Preprocessed and transposed chpn-p1_format0.mid to C major, saved as /content/drive/MyDrive/MRP/classical_all_era_combined_preprocessed/preprocessed_chpn-p1_format0.mid\n",
            "Preprocessed and transposed clementi_opus36_5_3_format0.mid to C major, saved as /content/drive/MyDrive/MRP/classical_all_era_combined_preprocessed/preprocessed_clementi_opus36_5_3_format0.mid\n",
            "Preprocessed and transposed clementi_opus36_1_3_format0.mid to C major, saved as /content/drive/MyDrive/MRP/classical_all_era_combined_preprocessed/preprocessed_clementi_opus36_1_3_format0.mid\n",
            "Preprocessed and transposed chp_op31_format0.mid to C major, saved as /content/drive/MyDrive/MRP/classical_all_era_combined_preprocessed/preprocessed_chp_op31_format0.mid\n",
            "Preprocessed and transposed chpn_op25_e2_format0.mid to C major, saved as /content/drive/MyDrive/MRP/classical_all_era_combined_preprocessed/preprocessed_chpn_op25_e2_format0.mid\n",
            "Preprocessed and transposed hay_40_1_format0.mid to C major, saved as /content/drive/MyDrive/MRP/classical_all_era_combined_preprocessed/preprocessed_hay_40_1_format0.mid\n",
            "Files Processed: 170\n"
          ]
        }
      ]
    }
  ]
}